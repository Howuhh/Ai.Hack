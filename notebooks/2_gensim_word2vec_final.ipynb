{
 "cells": [
  {
   "cell_type": "code",
   "execution_count": 1,
   "metadata": {
    "ExecuteTime": {
     "end_time": "2018-03-10T14:23:26.781286Z",
     "start_time": "2018-03-10T14:23:26.737839Z"
    }
   },
   "outputs": [
    {
     "name": "stderr",
     "output_type": "stream",
     "text": [
      "C:\\Anaconda\\lib\\site-packages\\gensim\\utils.py:862: UserWarning: detected Windows; aliasing chunkize to chunkize_serial\n",
      "  warnings.warn(\"detected Windows; aliasing chunkize to chunkize_serial\")\n"
     ]
    }
   ],
   "source": [
    "# Работы с текстом\n",
    "import nltk\n",
    "# nltk.download('punkt')\n",
    "\n",
    "# Алгоритмы кластеризации\n",
    "from sklearn.cluster import KMeans\n",
    "\n",
    "# Алгоритмы уменьшения размерности\n",
    "from sklearn.decomposition import PCA\n",
    "from sklearn.manifold import TSNE\n",
    "\n",
    "# Для построения TaggedDocuments для  Doc2Vec\n",
    "from gensim.models.doc2vec import LabeledSentence, TaggedDocument\n",
    "from gensim.models import doc2vec\n",
    "\n",
    "# Работа с данным \n",
    "import numpy as np\n",
    "import pandas as pd\n",
    "\n",
    "# Визуализация\n",
    "from matplotlib import pyplot as plt\n",
    "import seaborn as sns\n",
    "\n",
    "import pickle\n",
    "\n",
    "%matplotlib inline\n",
    "sns.set()"
   ]
  },
  {
   "cell_type": "markdown",
   "metadata": {},
   "source": [
    "## Загрузка данных и создание листа с текстами товаров"
   ]
  },
  {
   "cell_type": "code",
   "execution_count": 15,
   "metadata": {
    "ExecuteTime": {
     "end_time": "2018-03-10T13:47:22.291174Z",
     "start_time": "2018-03-10T13:47:21.930432Z"
    },
    "collapsed": true
   },
   "outputs": [],
   "source": [
    "documents = pd.read_csv(\"../data/data_for_doc2vec.csv\", sep=',', encoding='utf-8')"
   ]
  },
  {
   "cell_type": "code",
   "execution_count": 17,
   "metadata": {
    "collapsed": true
   },
   "outputs": [],
   "source": [
    "documents_goods = documents[\"goods_sentence\"].tolist()"
   ]
  },
  {
   "cell_type": "markdown",
   "metadata": {},
   "source": [
    "Разбиваю тексты с покупками на отдельные покупки для каждого пользователя"
   ]
  },
  {
   "cell_type": "code",
   "execution_count": 18,
   "metadata": {
    "ExecuteTime": {
     "end_time": "2018-03-10T13:48:16.547234Z",
     "start_time": "2018-03-10T13:47:41.270457Z"
    },
    "collapsed": true
   },
   "outputs": [],
   "source": [
    "cg = pd.concat([pd.Series(row['id'], row['goods_sentence'].split(' '))              \n",
    "                    for _, row in documents.iterrows()]).reset_index()"
   ]
  },
  {
   "cell_type": "code",
   "execution_count": 19,
   "metadata": {
    "ExecuteTime": {
     "end_time": "2018-03-10T13:49:02.603727Z",
     "start_time": "2018-03-10T13:49:01.569716Z"
    },
    "collapsed": true
   },
   "outputs": [],
   "source": [
    "cg.columns = [\"index\", \"ids\"]\n",
    "cg = cg.drop_duplicates(['index', 'ids'])"
   ]
  },
  {
   "cell_type": "code",
   "execution_count": 20,
   "metadata": {
    "ExecuteTime": {
     "end_time": "2018-03-10T13:49:26.047168Z",
     "start_time": "2018-03-10T13:49:26.035837Z"
    }
   },
   "outputs": [
    {
     "data": {
      "text/html": [
       "<div>\n",
       "<style>\n",
       "    .dataframe thead tr:only-child th {\n",
       "        text-align: right;\n",
       "    }\n",
       "\n",
       "    .dataframe thead th {\n",
       "        text-align: left;\n",
       "    }\n",
       "\n",
       "    .dataframe tbody tr th {\n",
       "        vertical-align: top;\n",
       "    }\n",
       "</style>\n",
       "<table border=\"1\" class=\"dataframe\">\n",
       "  <thead>\n",
       "    <tr style=\"text-align: right;\">\n",
       "      <th></th>\n",
       "      <th>index</th>\n",
       "      <th>ids</th>\n",
       "    </tr>\n",
       "  </thead>\n",
       "  <tbody>\n",
       "    <tr>\n",
       "      <th>0</th>\n",
       "      <td>150</td>\n",
       "      <td>21-8B0-16559</td>\n",
       "    </tr>\n",
       "    <tr>\n",
       "      <th>2</th>\n",
       "      <td>147</td>\n",
       "      <td>21-8B0-16559</td>\n",
       "    </tr>\n",
       "    <tr>\n",
       "      <th>3</th>\n",
       "      <td>145</td>\n",
       "      <td>21-8B0-16559</td>\n",
       "    </tr>\n",
       "    <tr>\n",
       "      <th>4</th>\n",
       "      <td>134</td>\n",
       "      <td>21-8B0-16559</td>\n",
       "    </tr>\n",
       "    <tr>\n",
       "      <th>6</th>\n",
       "      <td>146</td>\n",
       "      <td>21-8AN-11381</td>\n",
       "    </tr>\n",
       "  </tbody>\n",
       "</table>\n",
       "</div>"
      ],
      "text/plain": [
       "  index           ids\n",
       "0   150  21-8B0-16559\n",
       "2   147  21-8B0-16559\n",
       "3   145  21-8B0-16559\n",
       "4   134  21-8B0-16559\n",
       "6   146  21-8AN-11381"
      ]
     },
     "execution_count": 20,
     "metadata": {},
     "output_type": "execute_result"
    }
   ],
   "source": [
    "cg.head()"
   ]
  },
  {
   "cell_type": "markdown",
   "metadata": {},
   "source": [
    "#### Создаем список уникальных пользователей"
   ]
  },
  {
   "cell_type": "code",
   "execution_count": 21,
   "metadata": {
    "ExecuteTime": {
     "end_time": "2018-03-10T13:49:46.024925Z",
     "start_time": "2018-03-10T13:49:45.970849Z"
    },
    "collapsed": true
   },
   "outputs": [],
   "source": [
    "users = list(set(cg[\"ids\"]))"
   ]
  },
  {
   "cell_type": "markdown",
   "metadata": {},
   "source": [
    "### Обучение"
   ]
  },
  {
   "cell_type": "code",
   "execution_count": 22,
   "metadata": {
    "ExecuteTime": {
     "end_time": "2018-03-10T13:49:56.730668Z",
     "start_time": "2018-03-10T13:49:56.726108Z"
    },
    "collapsed": true
   },
   "outputs": [],
   "source": [
    "import logging\n",
    "logging.basicConfig(format='%(levelname)s : %(message)s', level=logging.INFO)\n",
    "logging.root.level = logging.INFO "
   ]
  },
  {
   "cell_type": "markdown",
   "metadata": {},
   "source": [
    "#### Токенизация текстов"
   ]
  },
  {
   "cell_type": "code",
   "execution_count": 23,
   "metadata": {
    "ExecuteTime": {
     "end_time": "2018-03-10T13:54:36.471221Z",
     "start_time": "2018-03-10T13:54:11.734490Z"
    },
    "collapsed": true
   },
   "outputs": [],
   "source": [
    "goods_sentences = [nltk.word_tokenize(doc) for doc in documents_goods]"
   ]
  },
  {
   "cell_type": "code",
   "execution_count": 24,
   "metadata": {
    "ExecuteTime": {
     "end_time": "2018-03-10T14:24:09.716816Z",
     "start_time": "2018-03-10T14:24:08.331076Z"
    },
    "collapsed": true
   },
   "outputs": [],
   "source": [
    "# построение листа с туплами (\"коды\", \"id клиента\")\n",
    "all_ids = list(zip(goods_sentences, documents[\"id\"]))\n",
    "# документы для vord2veca\n",
    "labeld_objects = [TaggedDocument(words = i[0], tags = [i[1]]) for i in all_ids]"
   ]
  },
  {
   "cell_type": "code",
   "execution_count": 25,
   "metadata": {
    "ExecuteTime": {
     "end_time": "2018-03-10T14:24:38.140317Z",
     "start_time": "2018-03-10T14:24:12.360881Z"
    }
   },
   "outputs": [
    {
     "name": "stderr",
     "output_type": "stream",
     "text": [
      "INFO : collecting all words and their counts\n",
      "INFO : PROGRESS: at example #0, processed 0 words (0/s), 0 word types, 0 tags\n",
      "INFO : collected 174 word types and 5000 unique tags from a corpus of 5000 examples and 101021 words\n",
      "INFO : Loading a fresh vocabulary\n",
      "INFO : min_count=1 retains 174 unique words (100% of original 174, drops 0)\n",
      "INFO : min_count=1 leaves 101021 word corpus (100% of original 101021, drops 0)\n",
      "INFO : deleting the raw counts dictionary of 174 items\n",
      "INFO : sample=0.001 downsamples 49 most-common words\n",
      "INFO : downsampling leaves estimated 29494 word corpus (29.2% of prior 101021)\n",
      "INFO : estimated required memory for 174 words and 100 dimensions: 3226200 bytes\n",
      "INFO : resetting layer weights\n",
      "INFO : training model with 3 workers on 174 vocabulary and 100 features, using sg=0 hs=0 sample=0.001 negative=5 window=5\n",
      "INFO : worker thread finished; awaiting finish of 2 more threads\n",
      "INFO : worker thread finished; awaiting finish of 1 more threads\n",
      "INFO : worker thread finished; awaiting finish of 0 more threads\n",
      "INFO : training on 505105 raw words (171927 effective words) took 1.0s, 177614 effective words/s\n"
     ]
    }
   ],
   "source": [
    "# обучение Doc2veca \n",
    "doc2vec_model = doc2vec.Doc2Vec(labeld_objects, min_count=1);"
   ]
  },
  {
   "cell_type": "code",
   "execution_count": 26,
   "metadata": {
    "ExecuteTime": {
     "end_time": "2018-03-10T14:23:17.310218Z",
     "start_time": "2018-03-10T14:23:17.302068Z"
    },
    "collapsed": true
   },
   "outputs": [],
   "source": [
    "docs_vectors = pd.DataFrame(doc2vec_model.docvecs.doctag_syn0)"
   ]
  },
  {
   "cell_type": "markdown",
   "metadata": {},
   "source": [
    "## Уменьшение размерности"
   ]
  },
  {
   "cell_type": "code",
   "execution_count": 27,
   "metadata": {
    "collapsed": true
   },
   "outputs": [],
   "source": [
    "tsne = TSNE(n_components=2)"
   ]
  },
  {
   "cell_type": "code",
   "execution_count": 28,
   "metadata": {
    "ExecuteTime": {
     "end_time": "2018-03-10T13:59:26.668319Z",
     "start_time": "2018-03-10T13:59:14.429355Z"
    }
   },
   "outputs": [],
   "source": [
    "X_tsne1 = tsne.fit_transform(docs_vectors)"
   ]
  },
  {
   "cell_type": "code",
   "execution_count": 49,
   "metadata": {},
   "outputs": [
    {
     "data": {
      "text/plain": [
       "TSNE(angle=0.5, early_exaggeration=12.0, init='random', learning_rate=200.0,\n",
       "   method='barnes_hut', metric='euclidean', min_grad_norm=1e-07,\n",
       "   n_components=2, n_iter=1000, n_iter_without_progress=300,\n",
       "   perplexity=30.0, random_state=None, verbose=0)"
      ]
     },
     "execution_count": 49,
     "metadata": {},
     "output_type": "execute_result"
    }
   ],
   "source": [
    "tsne"
   ]
  },
  {
   "cell_type": "code",
   "execution_count": 48,
   "metadata": {},
   "outputs": [
    {
     "data": {
      "text/plain": [
       "array([[ -5.54851627, -18.20882416],\n",
       "       [-18.49876022, -11.43276787],\n",
       "       [-11.00465584, -12.63403416],\n",
       "       ..., \n",
       "       [-24.85909843,   8.08285427],\n",
       "       [-15.70785618,  30.98260689],\n",
       "       [-17.51709938,  29.84692955]], dtype=float32)"
      ]
     },
     "execution_count": 48,
     "metadata": {},
     "output_type": "execute_result"
    }
   ],
   "source": [
    "X_tsne1"
   ]
  },
  {
   "cell_type": "code",
   "execution_count": 30,
   "metadata": {
    "collapsed": true
   },
   "outputs": [],
   "source": [
    "filename = 'tsne_model.pkl'\n",
    "pickle.dump(tsne, open(filename, 'wb'))"
   ]
  },
  {
   "cell_type": "markdown",
   "metadata": {},
   "source": [
    "## Кластеризация"
   ]
  },
  {
   "cell_type": "code",
   "execution_count": 37,
   "metadata": {
    "ExecuteTime": {
     "end_time": "2018-03-10T14:00:04.106839Z",
     "start_time": "2018-03-10T14:00:03.991530Z"
    },
    "collapsed": true
   },
   "outputs": [],
   "source": [
    "kmeans = KMeans(n_clusters= 2, random_state=12)\n",
    "dannie = kmeans.fit(docs_vectors)"
   ]
  },
  {
   "cell_type": "markdown",
   "metadata": {},
   "source": [
    "## Визуализация кластеров"
   ]
  },
  {
   "cell_type": "code",
   "execution_count": 38,
   "metadata": {
    "ExecuteTime": {
     "end_time": "2018-03-10T14:28:11.570252Z",
     "start_time": "2018-03-10T14:28:11.563985Z"
    },
    "collapsed": true
   },
   "outputs": [],
   "source": [
    "# индексы датафрейма\n",
    "user = documents[\"id\"].tolist()"
   ]
  },
  {
   "cell_type": "code",
   "execution_count": 39,
   "metadata": {
    "ExecuteTime": {
     "end_time": "2018-03-10T14:34:22.527248Z",
     "start_time": "2018-03-10T14:34:22.510815Z"
    }
   },
   "outputs": [
    {
     "data": {
      "text/html": [
       "<div>\n",
       "<style>\n",
       "    .dataframe thead tr:only-child th {\n",
       "        text-align: right;\n",
       "    }\n",
       "\n",
       "    .dataframe thead th {\n",
       "        text-align: left;\n",
       "    }\n",
       "\n",
       "    .dataframe tbody tr th {\n",
       "        vertical-align: top;\n",
       "    }\n",
       "</style>\n",
       "<table border=\"1\" class=\"dataframe\">\n",
       "  <thead>\n",
       "    <tr style=\"text-align: right;\">\n",
       "      <th></th>\n",
       "      <th>x</th>\n",
       "      <th>y</th>\n",
       "      <th>clust</th>\n",
       "    </tr>\n",
       "  </thead>\n",
       "  <tbody>\n",
       "    <tr>\n",
       "      <th>21-8B0-16559</th>\n",
       "      <td>17.976585</td>\n",
       "      <td>8.707900</td>\n",
       "      <td>1</td>\n",
       "    </tr>\n",
       "    <tr>\n",
       "      <th>21-8AN-11381</th>\n",
       "      <td>26.814550</td>\n",
       "      <td>-62.470219</td>\n",
       "      <td>0</td>\n",
       "    </tr>\n",
       "    <tr>\n",
       "      <th>21-8AE-1392</th>\n",
       "      <td>37.318600</td>\n",
       "      <td>59.572529</td>\n",
       "      <td>1</td>\n",
       "    </tr>\n",
       "    <tr>\n",
       "      <th>21-8AG-17190</th>\n",
       "      <td>-26.078634</td>\n",
       "      <td>-24.880222</td>\n",
       "      <td>0</td>\n",
       "    </tr>\n",
       "    <tr>\n",
       "      <th>21-19DP-2729</th>\n",
       "      <td>-40.855057</td>\n",
       "      <td>-16.301662</td>\n",
       "      <td>1</td>\n",
       "    </tr>\n",
       "  </tbody>\n",
       "</table>\n",
       "</div>"
      ],
      "text/plain": [
       "                      x          y  clust\n",
       "21-8B0-16559  17.976585   8.707900      1\n",
       "21-8AN-11381  26.814550 -62.470219      0\n",
       "21-8AE-1392   37.318600  59.572529      1\n",
       "21-8AG-17190 -26.078634 -24.880222      0\n",
       "21-19DP-2729 -40.855057 -16.301662      1"
      ]
     },
     "execution_count": 39,
     "metadata": {},
     "output_type": "execute_result"
    }
   ],
   "source": [
    "docf = pd.DataFrame(X_tsne1, index=user, columns=['x', 'y'])\n",
    "\n",
    "# колонка принадлежности к классам выделенным k-means\n",
    "docf[\"clust\"] = kmeans.labels_\n",
    "\n",
    "docf.head()"
   ]
  },
  {
   "cell_type": "code",
   "execution_count": 40,
   "metadata": {},
   "outputs": [
    {
     "data": {
      "text/plain": [
       "1    2851\n",
       "0    2149\n",
       "Name: clust, dtype: int64"
      ]
     },
     "execution_count": 40,
     "metadata": {},
     "output_type": "execute_result"
    }
   ],
   "source": [
    "docf[\"clust\"].value_counts()"
   ]
  },
  {
   "cell_type": "code",
   "execution_count": 43,
   "metadata": {
    "collapsed": true
   },
   "outputs": [],
   "source": [
    "docf.to_csv('k_means.csv')"
   ]
  },
  {
   "cell_type": "code",
   "execution_count": 42,
   "metadata": {
    "ExecuteTime": {
     "end_time": "2018-03-10T14:29:10.314451Z",
     "start_time": "2018-03-10T14:29:09.879994Z"
    }
   },
   "outputs": [
    {
     "data": {
      "image/png": "[encoded data removed]",
      "text/plain": [
       "<matplotlib.figure.Figure at 0x1aee0474828>"
      ]
     },
     "metadata": {},
     "output_type": "display_data"
    }
   ],
   "source": [
    "sns.set(rc={'figure.figsize':(12,8)})\n",
    "sns.lmplot(\"x\", \"y\", data= docf, hue = 'clust', fit_reg=False)\n",
    "plt.savefig('output_cl.png', format='png', dpi=1200)"
   ]
  },
  {
   "cell_type": "markdown",
   "metadata": {
    "collapsed": true
   },
   "source": [
    "## Поиск оптимального количества кластеров"
   ]
  },
  {
   "cell_type": "code",
   "execution_count": 31,
   "metadata": {},
   "outputs": [
    {
     "data": {
      "image/png": "[encoded data removed]",
      "text/plain": [
       "<matplotlib.figure.Figure at 0x1aedb3185c0>"
      ]
     },
     "metadata": {},
     "output_type": "display_data"
    }
   ],
   "source": [
    "Nc = range(1, 10)\n",
    "\n",
    "kmeans = [KMeans(n_clusters=i) for i in Nc]\n",
    "score = [kmeans[i].fit(docs_vectors.iloc[:500,:]).score(docs_vectors.iloc[:500,:]) for i in range(len(kmeans))]\n",
    "\n",
    "\n",
    "plt.plot(Nc, score)\n",
    "plt.xlabel(\"Number of Clusters\")\n",
    "plt.ylabel(\"Score\")\n",
    "plt.title(\"Elbow Curve\")"
   ]
  },
  {
   "cell_type": "code",
   "execution_count": 32,
   "metadata": {},
   "outputs": [
    {
     "name": "stdout",
     "output_type": "stream",
     "text": [
      "k:  1\n"
     ]
    },
    {
     "name": "stderr",
     "output_type": "stream",
     "text": [
      "C:\\Anaconda\\lib\\site-packages\\ipykernel_launcher.py:18: SettingWithCopyWarning: \n",
      "A value is trying to be set on a copy of a slice from a DataFrame.\n",
      "Try using .loc[row_indexer,col_indexer] = value instead\n",
      "\n",
      "See the caveats in the documentation: http://pandas.pydata.org/pandas-docs/stable/indexing.html#indexing-view-versus-copy\n"
     ]
    },
    {
     "name": "stdout",
     "output_type": "stream",
     "text": [
      "k:  2\n",
      "k:  3\n",
      "k:  4\n",
      "k:  5\n",
      "k:  6\n",
      "k:  7\n",
      "k:  8\n",
      "k:  9\n"
     ]
    },
    {
     "data": {
      "image/png": "[encoded data removed]",
      "text/plain": [
       "<matplotlib.figure.Figure at 0x1aed0f1fb00>"
      ]
     },
     "metadata": {},
     "output_type": "display_data"
    }
   ],
   "source": [
    "# Elbow criterion\n",
    "def elbow_plot(data, maxK=10, seed_centroids=None):\n",
    "    \"\"\"\n",
    "        parameters:\n",
    "        - data: pandas DataFrame (data to be fitted)\n",
    "        - maxK (default = 10): integer (maximum number of clusters with which to run k-means)\n",
    "        - seed_centroids (default = None ): float (initial value of centroids for k-means)\n",
    "    \"\"\"\n",
    "    sse = {}\n",
    "    for k in range(1, maxK):\n",
    "        print(\"k: \", k)\n",
    "        if seed_centroids is not None:\n",
    "            seeds = seed_centroids.head(k)\n",
    "            kmeans = KMeans(n_clusters=k, max_iter=500, n_init=100, random_state=0, init=np.reshape(seeds, (k,1))).fit(data)\n",
    "            data[\"clusters\"] = kmeans.labels_\n",
    "        else:\n",
    "            kmeans = KMeans(n_clusters=k, max_iter=300, n_init=100, random_state=0).fit(data)\n",
    "            data[\"clusters\"] = kmeans.labels_\n",
    "        # Inertia: Sum of distances of samples to their closest cluster center\n",
    "        sse[k] = kmeans.inertia_\n",
    "    plt.figure()\n",
    "    plt.plot(list(sse.keys()), list(sse.values()))\n",
    "    plt.show()\n",
    "    return\n",
    "\n",
    "elbow_plot(docs_vectors.iloc[:500,:], maxK=10)"
   ]
  }
 ],
 "metadata": {
  "kernelspec": {
   "display_name": "Python 3",
   "language": "python",
   "name": "python3"
  },
  "language_info": {
   "codemirror_mode": {
    "name": "ipython",
    "version": 3
   },
   "file_extension": ".py",
   "mimetype": "text/x-python",
   "name": "python",
   "nbconvert_exporter": "python",
   "pygments_lexer": "ipython3",
   "version": "3.6.3"
  }
 },
 "nbformat": 4,
 "nbformat_minor": 2
}
